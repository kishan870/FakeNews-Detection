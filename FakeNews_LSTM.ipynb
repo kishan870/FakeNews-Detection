{
 "cells": [
  {
   "cell_type": "code",
   "execution_count": 69,
   "id": "68ee9cd1-18ea-466a-9a19-8aab18526cee",
   "metadata": {},
   "outputs": [
    {
     "name": "stderr",
     "output_type": "stream",
     "text": [
      "[nltk_data] Downloading package stopwords to\n",
      "[nltk_data]     C:\\Users\\naras\\AppData\\Roaming\\nltk_data...\n",
      "[nltk_data]   Package stopwords is already up-to-date!\n"
     ]
    }
   ],
   "source": [
    "import pandas as pd\n",
    "import nltk\n",
    "from nltk.corpus import stopwords\n",
    "from tensorflow.keras.preprocessing.text import Tokenizer\n",
    "from tensorflow.keras.preprocessing.sequence import pad_sequences\n",
    "import torch\n",
    "from torch.utils.data import DataLoader, TensorDataset, random_split\n",
    "\n",
    "nltk.download('stopwords')\n",
    "stop_words = set(stopwords.words('english'))"
   ]
  },
  {
   "cell_type": "markdown",
   "id": "5ec14ce6-9271-4b22-9455-e5ce3b661b91",
   "metadata": {},
   "source": [
    "## Loading the FakeNews Datasets into pandas dataframe"
   ]
  },
  {
   "cell_type": "code",
   "execution_count": 70,
   "id": "2deb20c9-2300-486e-ae26-9e595732beea",
   "metadata": {},
   "outputs": [],
   "source": [
    "import os\n",
    "FakeNews_path = r'Dataset\\FakeNews'\n",
    "\n",
    "#Loading the FakeNews Dataset\n",
    "politifact_fake = pd.read_csv(os.path.join(FakeNews_path, 'politifact_fake.csv'))\n",
    "politifact_real = pd.read_csv(os.path.join(FakeNews_path, 'politifact_real.csv'))\n",
    "gossipcop_fake = pd.read_csv(os.path.join(FakeNews_path, 'gossipcop_fake.csv'))\n",
    "gossipcop_real = pd.read_csv(os.path.join(FakeNews_path, 'gossipcop_real.csv'))"
   ]
  },
  {
   "cell_type": "markdown",
   "id": "0a9b3ac1-dcb3-4544-81a5-fd3173c45710",
   "metadata": {},
   "source": [
    "## Preprocessing: Combine real and fake news into single dataframe"
   ]
  },
  {
   "cell_type": "code",
   "execution_count": 71,
   "id": "bc4e95c6-7bca-43d3-9d3c-a72eed4e368c",
   "metadata": {},
   "outputs": [
    {
     "name": "stdout",
     "output_type": "stream",
     "text": [
      "                id                                           news_url  \\\n",
      "0  politifact15014          speedtalk.com/forum/viewtopic.php?t=51650   \n",
      "1  politifact15156  politics2020.info/index.php/2018/03/13/court-o...   \n",
      "2  politifact14745  www.nscdscamps.org/blog/category/parenting/467...   \n",
      "3  politifact14355  https://howafrica.com/oscar-pistorius-attempts...   \n",
      "4  politifact15371  http://washingtonsources.org/trump-votes-for-d...   \n",
      "\n",
      "                                               title  \\\n",
      "0  BREAKING: First NFL Team Declares Bankruptcy O...   \n",
      "1  Court Orders Obama To Pay $400 Million In Rest...   \n",
      "2  UPDATE: Second Roy Moore Accuser Works For Mic...   \n",
      "3         Oscar Pistorius Attempts To Commit Suicide   \n",
      "4        Trump Votes For Death Penalty For Being Gay   \n",
      "\n",
      "                                           tweet_ids  label  \n",
      "0  937349434668498944\\t937379378006282240\\t937380...      0  \n",
      "1  972666281441878016\\t972678396575559680\\t972827...      0  \n",
      "2  929405740732870656\\t929439450400264192\\t929439...      0  \n",
      "3  886941526458347521\\t887011300278194176\\t887023...      0  \n",
      "4  915205698212040704\\t915242076681506816\\t915249...      0  \n"
     ]
    }
   ],
   "source": [
    "# 0 indicates fake news\n",
    "# 1 indicates real news\n",
    "politifact_fake['label'] = 0\n",
    "politifact_real['label'] = 1  \n",
    "gossipcop_fake['label'] = 0 \n",
    "gossipcop_real['label'] = 1  \n",
    "\n",
    "news_data = pd.concat([politifact_fake, politifact_real, gossipcop_fake, gossipcop_real], ignore_index=True)\n",
    "\n",
    "print(news_data.head())"
   ]
  },
  {
   "cell_type": "markdown",
   "id": "f62d4e26-fea7-4595-a95e-d5fc00354b34",
   "metadata": {},
   "source": [
    "## Preprocessing: Tokenizing the text data and removing the stopwords. Also converting text into sequences of word indices."
   ]
  },
  {
   "cell_type": "code",
   "execution_count": 72,
   "id": "fa3bde8c-c9b7-4d17-8f41-22dcf057c393",
   "metadata": {},
   "outputs": [],
   "source": [
    "def preprocess_text(text):\n",
    "    if pd.isnull(text):\n",
    "        return \"\"\n",
    "    tokens = nltk.word_tokenize(text)\n",
    "    tokens = [word for word in tokens if word.isalpha() and word not in stop_words]\n",
    "    return ' '.join(tokens)\n",
    "\n",
    "news_data['processed_text'] = news_data['title'].apply(preprocess_text)\n",
    "\n",
    "tokenizer = Tokenizer(num_words=5000)\n",
    "tokenizer.fit_on_texts(news_data['processed_text'])\n",
    "sequences = tokenizer.texts_to_sequences(news_data['processed_text'])\n",
    "word_index = tokenizer.word_index\n",
    "\n",
    "X_news = pad_sequences(sequences, maxlen=100)\n",
    "y_news = news_data['label'].values"
   ]
  },
  {
   "cell_type": "markdown",
   "id": "bc49b382-ee80-4ad2-9e89-1061e7410cfc",
   "metadata": {},
   "source": [
    "## Preprocessing: Converting the sequences into PyTorch Tensors"
   ]
  },
  {
   "cell_type": "code",
   "execution_count": 73,
   "id": "35277e74-f686-40aa-b681-828fa7813ff6",
   "metadata": {},
   "outputs": [
    {
     "name": "stdout",
     "output_type": "stream",
     "text": [
      "Train size: 16237, Validation size: 3479, Test size: 3480\n"
     ]
    }
   ],
   "source": [
    "import torch\n",
    "from torch.utils.data import DataLoader, TensorDataset\n",
    "\n",
    "device = torch.device(\"cuda\" if torch.cuda.is_available() else \"cpu\")\n",
    "\n",
    "X_news_tensor = torch.tensor(X_news, dtype=torch.long)\n",
    "y_news_tensor = torch.tensor(y_news, dtype=torch.long)\n",
    "\n",
    "dataset = TensorDataset(X_news_tensor, y_news_tensor)\n",
    "\n",
    "train_size = int(0.7 * len(dataset))\n",
    "val_size = int(0.15 * len(dataset))\n",
    "test_size = len(dataset) - train_size - val_size\n",
    "\n",
    "train_dataset, val_dataset, test_dataset = random_split(dataset, [train_size, val_size, test_size])\n",
    "\n",
    "train_loader = DataLoader(train_dataset, batch_size=64, shuffle=True)\n",
    "val_loader = DataLoader(val_dataset, batch_size=64, shuffle=False)\n",
    "test_loader = DataLoader(test_dataset, batch_size=64, shuffle=False)\n",
    "\n",
    "print(f\"Train size: {train_size}, Validation size: {val_size}, Test size: {test_size}\")"
   ]
  },
  {
   "cell_type": "markdown",
   "id": "79e5e4be-9183-46e3-902b-6f1621847654",
   "metadata": {},
   "source": [
    "## Defining LSTM model"
   ]
  },
  {
   "cell_type": "code",
   "execution_count": 74,
   "id": "d150817e-e996-4c9f-920f-acd3a6e77fcb",
   "metadata": {},
   "outputs": [],
   "source": [
    "import torch.nn as nn\n",
    "import torch.optim as optim\n",
    "\n",
    "device = torch.device('cuda' if torch.cuda.is_available() else 'cpu')\n",
    "\n",
    "class LSTMModel(nn.Module):\n",
    "    def __init__(self, input_dim, hidden_dim, output_dim):\n",
    "        super(LSTMModel, self).__init__()\n",
    "        self.embedding = nn.Embedding(input_dim, 128)\n",
    "        self.lstm = nn.LSTM(128, hidden_dim, batch_first=True, dropout=0.2)\n",
    "        self.fc = nn.Linear(hidden_dim, output_dim)\n",
    "        self.sigmoid = nn.Sigmoid()\n",
    "\n",
    "    def forward(self, x):\n",
    "        x = self.embedding(x)\n",
    "        x, (hn, cn) = self.lstm(x)\n",
    "        x = self.fc(x[:, -1, :])\n",
    "        x = self.sigmoid(x)\n",
    "        return x"
   ]
  },
  {
   "cell_type": "markdown",
   "id": "e1ce1d24-e638-4055-9112-3c9ec97957f0",
   "metadata": {},
   "source": [
    "## Defining the Training and Evaluation Function"
   ]
  },
  {
   "cell_type": "code",
   "execution_count": 75,
   "id": "19adaeca-a284-4210-91b0-f13411c9cb00",
   "metadata": {},
   "outputs": [],
   "source": [
    "def train_and_evaluate_model(params, train_loader, val_loader, epochs=5):\n",
    "    model = LSTMModel(input_dim=params['input_dim'], hidden_dim=params['hidden_dim'], output_dim=1).to(device)\n",
    "    criterion = nn.BCELoss()\n",
    "    optimizer = params['optimizer'](model.parameters(), lr=params['learning_rate'])\n",
    "    train_losses, val_losses = [], []\n",
    "    train_accuracies, val_accuracies = [], []\n",
    "\n",
    "    for epoch in range(epochs):\n",
    "        model.train()\n",
    "        train_loss, correct, total = 0, 0, 0\n",
    "        for X_batch, y_batch in train_loader:\n",
    "            X_batch, y_batch = X_batch.to(device), y_batch.to(device)\n",
    "            optimizer.zero_grad()\n",
    "            y_pred = model(X_batch)\n",
    "            loss = criterion(y_pred.squeeze(), y_batch.float())\n",
    "            loss.backward()\n",
    "            optimizer.step()\n",
    "            train_loss += loss.item()\n",
    "            predicted = (y_pred.squeeze() > 0.5).int()\n",
    "            total += y_batch.size(0)\n",
    "            correct += (predicted == y_batch).sum().item()\n",
    "        train_losses.append(train_loss / len(train_loader))\n",
    "        train_accuracies.append(correct / total)\n",
    "\n",
    "        model.eval()\n",
    "        val_loss, correct, total = 0, 0, 0\n",
    "        with torch.no_grad():\n",
    "            for X_batch, y_batch in val_loader:\n",
    "                X_batch, y_batch = X_batch.to(device), y_batch.to(device)\n",
    "                y_pred = model(X_batch)\n",
    "                loss = criterion(y_pred.squeeze(), y_batch.float())\n",
    "                val_loss += loss.item()\n",
    "                predicted = (y_pred.squeeze() > 0.5).int()\n",
    "                total += y_batch.size(0)\n",
    "                correct += (predicted == y_batch).sum().item()\n",
    "        val_losses.append(val_loss / len(val_loader))\n",
    "        val_accuracies.append(correct / total)\n",
    "\n",
    "        print(f\"Epoch {epoch+1}, Train Loss: {train_losses[-1]}, Val Loss: {val_losses[-1]}, Train Acc: {train_accuracies[-1]}, Val Acc: {val_accuracies[-1]}\")\n",
    "\n",
    "    return model, train_losses, val_losses, train_accuracies, val_accuracies"
   ]
  },
  {
   "cell_type": "markdown",
   "id": "517fed57-2e28-40c7-a504-fc074e52f5ab",
   "metadata": {},
   "source": [
    "## Using Hyperparameter grid to perform hyperparameter tuning"
   ]
  },
  {
   "cell_type": "code",
   "execution_count": 76,
   "id": "44b2794c-1a98-4a78-83eb-72ec49386e99",
   "metadata": {},
   "outputs": [],
   "source": [
    "param_grid = {\n",
    "    'input_dim': [5000],\n",
    "    'hidden_dim': [64, 128],\n",
    "    'learning_rate': [0.001, 0.0001],\n",
    "    'optimizer': [optim.Adam, optim.RMSprop],\n",
    "}\n",
    "grid = ParameterGrid(param_grid)"
   ]
  },
  {
   "cell_type": "markdown",
   "id": "8d86cdd4-d05b-4204-b5a8-6e840632d0f4",
   "metadata": {},
   "source": [
    "## Training and Evaluating with Hyperparameter Tuning"
   ]
  },
  {
   "cell_type": "code",
   "execution_count": 77,
   "id": "54098346-6d12-479e-9b4c-7cbc328fc742",
   "metadata": {},
   "outputs": [
    {
     "name": "stdout",
     "output_type": "stream",
     "text": [
      "Training with params: {'hidden_dim': 64, 'input_dim': 5000, 'learning_rate': 0.001, 'optimizer': <class 'torch.optim.adam.Adam'>}\n"
     ]
    },
    {
     "name": "stderr",
     "output_type": "stream",
     "text": [
      "C:\\Python311\\Lib\\site-packages\\torch\\nn\\modules\\rnn.py:83: UserWarning: dropout option adds dropout after all but last recurrent layer, so non-zero dropout expects num_layers greater than 1, but got dropout=0.2 and num_layers=1\n",
      "  warnings.warn(\"dropout option adds dropout after all but last \"\n"
     ]
    },
    {
     "name": "stdout",
     "output_type": "stream",
     "text": [
      "Epoch 1, Train Loss: 0.4986052696160444, Val Loss: 0.4472844633189115, Train Acc: 0.7675679004742255, Val Acc: 0.8031043403276804\n",
      "Epoch 2, Train Loss: 0.37797984187527905, Val Loss: 0.4048241263086146, Train Acc: 0.838886493810433, Val Acc: 0.8215004311583789\n",
      "Epoch 3, Train Loss: 0.3167530722388132, Val Loss: 0.4062165468931198, Train Acc: 0.8683254295744288, Val Acc: 0.8174762862891636\n",
      "Epoch 4, Train Loss: 0.26486334014009305, Val Loss: 0.4215282957662236, Train Acc: 0.8916671798977643, Val Acc: 0.8157516527737856\n",
      "Epoch 5, Train Loss: 0.2177422413323808, Val Loss: 0.46660619215531784, Train Acc: 0.9134076491962801, Val Acc: 0.8146018970968669\n",
      "Epoch 6, Train Loss: 0.17424737093016857, Val Loss: 0.5090376499024305, Train Acc: 0.9317607932499846, Val Acc: 0.8157516527737856\n",
      "Epoch 7, Train Loss: 0.13537131717765893, Val Loss: 0.5676164337179878, Train Acc: 0.9476504280347354, Val Acc: 0.8146018970968669\n",
      "Epoch 8, Train Loss: 0.10159861360214592, Val Loss: 0.6576996578411622, Train Acc: 0.962493071380181, Val Acc: 0.8148893360160966\n",
      "Epoch 9, Train Loss: 0.07580593611869052, Val Loss: 0.7083372376181862, Train Acc: 0.9736404508221962, Val Acc: 0.8019545846507617\n",
      "Epoch 10, Train Loss: 0.05834269532420504, Val Loss: 0.779128162427382, Train Acc: 0.9793681098725134, Val Acc: 0.8031043403276804\n",
      "\n",
      "\n",
      "\n",
      "Training with params: {'hidden_dim': 64, 'input_dim': 5000, 'learning_rate': 0.001, 'optimizer': <class 'torch.optim.rmsprop.RMSprop'>}\n",
      "Epoch 1, Train Loss: 0.45742026311675393, Val Loss: 0.41624931395053866, Train Acc: 0.7981770031409743, Val Acc: 0.8197757976430009\n",
      "Epoch 2, Train Loss: 0.35969268741804783, Val Loss: 0.39987054060805927, Train Acc: 0.850464987374515, Val Acc: 0.8278240873814314\n",
      "Epoch 3, Train Loss: 0.3079896913034709, Val Loss: 0.4052320726893165, Train Acc: 0.8726981585268214, Val Acc: 0.8197757976430009\n",
      "Epoch 4, Train Loss: 0.2606129953124392, Val Loss: 0.4224327645518563, Train Acc: 0.8947465664839563, Val Acc: 0.8232250646737568\n",
      "Epoch 5, Train Loss: 0.2181694714396488, Val Loss: 0.43776609003543854, Train Acc: 0.9120527190983556, Val Acc: 0.8292612819775798\n",
      "Epoch 6, Train Loss: 0.17627936484306816, Val Loss: 0.4927653450857509, Train Acc: 0.93120650366447, Val Acc: 0.8252371371083644\n",
      "Epoch 7, Train Loss: 0.13995912329359786, Val Loss: 0.5555006387558851, Train Acc: 0.9472809016443925, Val Acc: 0.8286864041391204\n",
      "Epoch 8, Train Loss: 0.10810369509088946, Val Loss: 0.6310695377263156, Train Acc: 0.9601527375746751, Val Acc: 0.8255245760275941\n",
      "Epoch 9, Train Loss: 0.08207112552935449, Val Loss: 0.6807380757548592, Train Acc: 0.970622651967728, Val Acc: 0.8235125035929864\n",
      "Epoch 10, Train Loss: 0.0637972395771777, Val Loss: 0.7633118737827648, Train Acc: 0.9780131797745889, Val Acc: 0.8148893360160966\n",
      "\n",
      "\n",
      "\n",
      "Training with params: {'hidden_dim': 64, 'input_dim': 5000, 'learning_rate': 0.0001, 'optimizer': <class 'torch.optim.adam.Adam'>}\n",
      "Epoch 1, Train Loss: 0.6193505748519748, Val Loss: 0.5525314000519839, Train Acc: 0.6809139619387818, Val Acc: 0.7493532624317333\n",
      "Epoch 2, Train Loss: 0.5339579463709058, Val Loss: 0.520825457572937, Train Acc: 0.7531563712508468, Val Acc: 0.7542397240586375\n",
      "Epoch 3, Train Loss: 0.4943220112032778, Val Loss: 0.47672735994512383, Train Acc: 0.7657818562542341, Val Acc: 0.7755102040816326\n",
      "Epoch 4, Train Loss: 0.4603397356947576, Val Loss: 0.45618896972049366, Train Acc: 0.7889388433823983, Val Acc: 0.7878700776085082\n",
      "Epoch 5, Train Loss: 0.43964111511632215, Val Loss: 0.44448882233012804, Train Acc: 0.8032271971423293, Val Acc: 0.7970681230238574\n",
      "Epoch 6, Train Loss: 0.42383054849200363, Val Loss: 0.4344086836684834, Train Acc: 0.8139434624622776, Val Acc: 0.806841046277666\n",
      "Epoch 7, Train Loss: 0.40952898843551244, Val Loss: 0.4268536242571744, Train Acc: 0.8230584467574059, Val Acc: 0.8117275079045703\n",
      "Epoch 8, Train Loss: 0.39710544178805013, Val Loss: 0.41982014666904105, Train Acc: 0.8278622898318655, Val Acc: 0.8148893360160966\n",
      "Epoch 9, Train Loss: 0.38511344479528936, Val Loss: 0.41782490611076356, Train Acc: 0.8342058261994211, Val Acc: 0.8171888473699339\n",
      "Epoch 10, Train Loss: 0.37400060405177393, Val Loss: 0.4103700778701089, Train Acc: 0.8396871343228429, Val Acc: 0.8209255533199196\n",
      "\n",
      "\n",
      "\n",
      "Training with params: {'hidden_dim': 64, 'input_dim': 5000, 'learning_rate': 0.0001, 'optimizer': <class 'torch.optim.rmsprop.RMSprop'>}\n",
      "Epoch 1, Train Loss: 0.5705341717858953, Val Loss: 0.5428491570732811, Train Acc: 0.7417626408819363, Val Acc: 0.7505030181086519\n",
      "Epoch 2, Train Loss: 0.5256744710009867, Val Loss: 0.5199929481202906, Train Acc: 0.7559894069101435, Val Acc: 0.7536648462201783\n",
      "Epoch 3, Train Loss: 0.493962617136362, Val Loss: 0.48733005740425805, Train Acc: 0.7683685409866354, Val Acc: 0.7703363035354988\n",
      "Epoch 4, Train Loss: 0.46243054707219283, Val Loss: 0.4661961403760043, Train Acc: 0.7869680359672353, Val Acc: 0.7895947111238861\n",
      "Epoch 5, Train Loss: 0.4418622703533473, Val Loss: 0.45378010218793696, Train Acc: 0.8016875038492333, Val Acc: 0.7941937338315608\n",
      "Epoch 6, Train Loss: 0.4268548203500237, Val Loss: 0.4439207911491394, Train Acc: 0.8119726550471146, Val Acc: 0.8033917792469101\n",
      "Epoch 7, Train Loss: 0.41395928634433293, Val Loss: 0.4375213791023601, Train Acc: 0.8196711215125947, Val Acc: 0.8056912906007473\n",
      "Epoch 8, Train Loss: 0.40247333513235484, Val Loss: 0.43135236664251847, Train Acc: 0.8254603682946358, Val Acc: 0.8102903133084219\n",
      "Epoch 9, Train Loss: 0.39188233346450985, Val Loss: 0.42621674049984326, Train Acc: 0.8303257991008192, Val Acc: 0.8125898246622593\n",
      "Epoch 10, Train Loss: 0.3819524953215141, Val Loss: 0.4228322478857907, Train Acc: 0.8351296421752786, Val Acc: 0.8134521414199483\n",
      "\n",
      "\n",
      "\n",
      "Training with params: {'hidden_dim': 128, 'input_dim': 5000, 'learning_rate': 0.001, 'optimizer': <class 'torch.optim.adam.Adam'>}\n",
      "Epoch 1, Train Loss: 0.4818007357007875, Val Loss: 0.4216507781635631, Train Acc: 0.7839502371127671, Val Acc: 0.8186260419660822\n",
      "Epoch 2, Train Loss: 0.37171019015349743, Val Loss: 0.3925679908557372, Train Acc: 0.8435671614214448, Val Acc: 0.8304110376544984\n",
      "Epoch 3, Train Loss: 0.3078509694126647, Val Loss: 0.39891146367246455, Train Acc: 0.872882921721993, Val Acc: 0.8355849382006324\n",
      "Epoch 4, Train Loss: 0.24729533657783598, Val Loss: 0.4290879637002945, Train Acc: 0.9001046991439305, Val Acc: 0.8295487208968094\n",
      "Epoch 5, Train Loss: 0.18918351127993405, Val Loss: 0.4640781738541343, Train Acc: 0.9251093182238098, Val Acc: 0.8203506754814602\n",
      "Epoch 6, Train Loss: 0.13235166837556625, Val Loss: 0.5470687020908702, Train Acc: 0.9514072796698898, Val Acc: 0.8154642138545559\n",
      "Epoch 7, Train Loss: 0.0926630331394006, Val Loss: 0.6704332877289165, Train Acc: 0.9662499230153353, Val Acc: 0.8189134808853119\n",
      "Epoch 8, Train Loss: 0.06704462635675519, Val Loss: 0.7308829648928209, Train Acc: 0.975672845969083, Val Acc: 0.8143144581776373\n",
      "Epoch 9, Train Loss: 0.04465886875693723, Val Loss: 0.8604305543682792, Train Acc: 0.9847262425324875, Val Acc: 0.8192009198045416\n",
      "Epoch 10, Train Loss: 0.033384488274500974, Val Loss: 0.9408425087278539, Train Acc: 0.9886678573628134, Val Acc: 0.8091405576315033\n",
      "\n",
      "\n",
      "\n",
      "Training with params: {'hidden_dim': 128, 'input_dim': 5000, 'learning_rate': 0.001, 'optimizer': <class 'torch.optim.rmsprop.RMSprop'>}\n",
      "Epoch 1, Train Loss: 0.4557909323709218, Val Loss: 0.4107183348048817, Train Acc: 0.801379565190614, Val Acc: 0.8286864041391204\n",
      "Epoch 2, Train Loss: 0.3572139078824539, Val Loss: 0.3945955910465934, Train Acc: 0.8503418119110673, Val Acc: 0.8309859154929577\n",
      "Epoch 3, Train Loss: 0.30290957552006864, Val Loss: 0.4002115387808193, Train Acc: 0.8753464309909466, Val Acc: 0.8335728657660247\n",
      "Epoch 4, Train Loss: 0.2501779500776389, Val Loss: 0.4291570419614965, Train Acc: 0.8991808831680729, Val Acc: 0.8263868927852831\n",
      "Epoch 5, Train Loss: 0.1962854240353652, Val Loss: 0.47204062830318105, Train Acc: 0.919997536490731, Val Acc: 0.8123023857430296\n",
      "Epoch 6, Train Loss: 0.14227229578229855, Val Loss: 0.5822150436314669, Train Acc: 0.9451869187657819, Val Acc: 0.8192009198045416\n",
      "Epoch 7, Train Loss: 0.09970362490321708, Val Loss: 0.6202014803886413, Train Acc: 0.9637248260146579, Val Acc: 0.8128772635814889\n",
      "Epoch 8, Train Loss: 0.06714769739906971, Val Loss: 0.7535178005695343, Train Acc: 0.977582065652522, Val Acc: 0.8033917792469101\n",
      "Epoch 9, Train Loss: 0.05033357096579307, Val Loss: 0.9472984124313701, Train Acc: 0.9839256020200776, Val Acc: 0.8154642138545559\n",
      "Epoch 10, Train Loss: 0.040089013202548554, Val Loss: 0.9997389722954143, Train Acc: 0.9860811726304121, Val Acc: 0.8111526300661109\n",
      "\n",
      "\n",
      "\n",
      "Training with params: {'hidden_dim': 128, 'input_dim': 5000, 'learning_rate': 0.0001, 'optimizer': <class 'torch.optim.adam.Adam'>}\n",
      "Epoch 1, Train Loss: 0.5858244745750126, Val Loss: 0.5385270617224953, Train Acc: 0.7387448420274682, Val Acc: 0.749640701350963\n",
      "Epoch 2, Train Loss: 0.5119470713410791, Val Loss: 0.4893768787384033, Train Acc: 0.7607316622528792, Val Acc: 0.7732106927277953\n",
      "Epoch 3, Train Loss: 0.46772683077440486, Val Loss: 0.46626379923387007, Train Acc: 0.7877070887479214, Val Acc: 0.7847082494969819\n",
      "Epoch 4, Train Loss: 0.4424803512185577, Val Loss: 0.4601820999925787, Train Acc: 0.802180205703024, Val Acc: 0.7999425122161541\n",
      "Epoch 5, Train Loss: 0.4224758919064454, Val Loss: 0.43670715310356834, Train Acc: 0.8118494795836669, Val Acc: 0.8088531187122736\n",
      "Epoch 6, Train Loss: 0.40360621439190364, Val Loss: 0.42913686578924004, Train Acc: 0.8231816222208536, Val Acc: 0.8114400689853406\n",
      "Epoch 7, Train Loss: 0.38736218947359896, Val Loss: 0.4187143623828888, Train Acc: 0.8332820102235635, Val Acc: 0.8183386030468526\n",
      "Epoch 8, Train Loss: 0.3709190268450835, Val Loss: 0.42929547185247596, Train Acc: 0.8407341257621482, Val Acc: 0.8237999425122161\n",
      "Epoch 9, Train Loss: 0.35759825529310646, Val Loss: 0.4084837967699224, Train Acc: 0.8451068547145408, Val Acc: 0.8283989652198908\n",
      "Epoch 10, Train Loss: 0.3434508118455804, Val Loss: 0.4040164584463293, Train Acc: 0.8512040401552011, Val Acc: 0.8200632365622306\n",
      "\n",
      "\n",
      "\n",
      "Training with params: {'hidden_dim': 128, 'input_dim': 5000, 'learning_rate': 0.0001, 'optimizer': <class 'torch.optim.rmsprop.RMSprop'>}\n",
      "Epoch 1, Train Loss: 0.5479472977673914, Val Loss: 0.5158212873068723, Train Acc: 0.7440413869557184, Val Acc: 0.7551020408163265\n",
      "Epoch 2, Train Loss: 0.4903714662696433, Val Loss: 0.47202502272345803, Train Acc: 0.774342550963848, Val Acc: 0.7832710549008336\n",
      "Epoch 3, Train Loss: 0.4597132327988392, Val Loss: 0.4570130927996202, Train Acc: 0.7944817392375438, Val Acc: 0.7944811727507904\n",
      "Epoch 4, Train Loss: 0.441076264958682, Val Loss: 0.4423819000070745, Train Acc: 0.8061218205333498, Val Acc: 0.8036792181661397\n",
      "Epoch 5, Train Loss: 0.4246397327015719, Val Loss: 0.43347468105229464, Train Acc: 0.8129580587546961, Val Acc: 0.8097154354699626\n",
      "Epoch 6, Train Loss: 0.410042596379603, Val Loss: 0.4276364321058447, Train Acc: 0.8212724025374145, Val Acc: 0.8140270192584076\n",
      "Epoch 7, Train Loss: 0.397204901935078, Val Loss: 0.42075012570077724, Train Acc: 0.8295251585884091, Val Acc: 0.8183386030468526\n",
      "Epoch 8, Train Loss: 0.38468298609331836, Val Loss: 0.41214089285243644, Train Acc: 0.8329740715649443, Val Acc: 0.8203506754814602\n",
      "Epoch 9, Train Loss: 0.37324801709238936, Val Loss: 0.41150752820751885, Train Acc: 0.840056660713186, Val Acc: 0.8232250646737568\n",
      "Epoch 10, Train Loss: 0.36167980525202637, Val Loss: 0.40813739597797394, Train Acc: 0.8442446264704071, Val Acc: 0.8278240873814314\n",
      "\n",
      "\n",
      "\n",
      "Best Validation Accuracy: 0.8355849382006324\n",
      "Best Hyperparameters: {'hidden_dim': 128, 'input_dim': 5000, 'learning_rate': 0.001, 'optimizer': <class 'torch.optim.adam.Adam'>}\n"
     ]
    }
   ],
   "source": [
    "best_val_accuracy = 0\n",
    "best_model = None\n",
    "best_params = None\n",
    "\n",
    "for params in grid:\n",
    "    print(f\"Training with params: {params}\")\n",
    "    model, train_losses, val_losses, train_accuracies, val_accuracies = train_and_evaluate_model(params, train_loader, val_loader, epochs=10)\n",
    "    print(\"\\n\\n\")\n",
    "    if max(val_accuracies) > best_val_accuracy:\n",
    "        best_val_accuracy = max(val_accuracies)\n",
    "        best_model = model\n",
    "        best_params = params\n",
    "\n",
    "print(f\"Best Validation Accuracy: {best_val_accuracy}\")\n",
    "print(f\"Best Hyperparameters: {best_params}\")"
   ]
  },
  {
   "cell_type": "markdown",
   "id": "d58d3ee7-a511-439d-95b3-1912d3de5c8a",
   "metadata": {},
   "source": [
    "## Plotting accuracy and loss"
   ]
  },
  {
   "cell_type": "code",
   "execution_count": 78,
   "id": "22bdefa5-8782-42e1-83ed-da2e7cf78e21",
   "metadata": {},
   "outputs": [
    {
     "data": {
      "image/png": "[encoded data removed]",
      "text/plain": [
       "<Figure size 1400x500 with 2 Axes>"
      ]
     },
     "metadata": {},
     "output_type": "display_data"
    }
   ],
   "source": [
    "import matplotlib.pyplot as plt\n",
    "\n",
    "def plot_metrics(train_losses, val_losses, train_accuracies, val_accuracies):\n",
    "    epochs = range(1, len(train_losses) + 1)\n",
    "    plt.figure(figsize=(14, 5))\n",
    "\n",
    "    plt.subplot(1, 2, 1)\n",
    "    plt.plot(epochs, train_losses, 'r', label='Training loss')\n",
    "    plt.plot(epochs, val_losses, 'b', label='Validation loss')\n",
    "    plt.title('Training and Validation Loss')\n",
    "    plt.xlabel('Epochs')\n",
    "    plt.ylabel('Loss')\n",
    "    plt.legend()\n",
    "\n",
    "    plt.subplot(1, 2, 2)\n",
    "    plt.plot(epochs, train_accuracies, 'r', label='Training accuracy')\n",
    "    plt.plot(epochs, val_accuracies, 'b', label='Validation accuracy')\n",
    "    plt.title('Training and Validation Accuracy')\n",
    "    plt.xlabel('Epochs')\n",
    "    plt.ylabel('Accuracy')\n",
    "    plt.legend()\n",
    "\n",
    "    plt.show()\n",
    "\n",
    "plot_metrics(train_losses, val_losses, train_accuracies, val_accuracies)"
   ]
  },
  {
   "cell_type": "markdown",
   "id": "dc962c1f-33eb-45ef-ba2b-82091101b1ed",
   "metadata": {},
   "source": [
    "## Evaluation with the Best Model on Test Data"
   ]
  },
  {
   "cell_type": "code",
   "execution_count": 80,
   "id": "8ccbd775-57a8-4ec6-929f-7d69660a0bb8",
   "metadata": {},
   "outputs": [
    {
     "name": "stdout",
     "output_type": "stream",
     "text": [
      "Test Accuracy: 0.8181034482758621\n",
      "Classification Report:\n",
      "               precision    recall  f1-score   support\n",
      "\n",
      "           0       0.63      0.60      0.62       847\n",
      "           1       0.87      0.89      0.88      2633\n",
      "\n",
      "    accuracy                           0.82      3480\n",
      "   macro avg       0.75      0.74      0.75      3480\n",
      "weighted avg       0.81      0.82      0.82      3480\n",
      "\n"
     ]
    },
    {
     "data": {
      "image/png": "[encoded data removed]",
      "text/plain": [
       "<Figure size 1000x700 with 2 Axes>"
      ]
     },
     "metadata": {},
     "output_type": "display_data"
    }
   ],
   "source": [
    "import seaborn as sns\n",
    "from sklearn.metrics import confusion_matrix\n",
    "\n",
    "def plot_confusion_matrix(cm, labels):\n",
    "    plt.figure(figsize=(10, 7))\n",
    "    sns.heatmap(cm, annot=True, fmt='d', cmap='Blues', xticklabels=labels, yticklabels=labels)\n",
    "    plt.xlabel('Predicted')\n",
    "    plt.ylabel('True')\n",
    "    plt.title('Confusion Matrix')\n",
    "    plt.show()\n",
    "\n",
    "# Evaluate the best model on the test set\n",
    "accuracy, cm, cr = evaluate_model(best_model, test_loader)\n",
    "print(\"Test Accuracy:\", accuracy)\n",
    "print(\"Classification Report:\\n\", cr)\n",
    "\n",
    "# Plot the confusion matrix\n",
    "plot_confusion_matrix(cm, labels=['False', 'True'])"
   ]
  },
  {
   "cell_type": "code",
   "execution_count": 81,
   "id": "3df97da2-a53c-4730-9090-a444eec33254",
   "metadata": {},
   "outputs": [],
   "source": [
    "torch.save(best_model.state_dict(), 'best_model.pth')"
   ]
  },
  {
   "cell_type": "markdown",
   "id": "74f34620-9735-4224-820e-7b62097e36c6",
   "metadata": {},
   "source": [
    "## Saving the tokenizer to use in the webapp"
   ]
  },
  {
   "cell_type": "code",
   "execution_count": 82,
   "id": "6b378036-a9d6-4b0d-8b31-80bad0281e60",
   "metadata": {},
   "outputs": [],
   "source": [
    "import pickle\n",
    "\n",
    "with open('tokenizer.pickle', 'wb') as handle:\n",
    "    pickle.dump(tokenizer, handle, protocol=pickle.HIGHEST_PROTOCOL)"
   ]
  },
  {
   "cell_type": "code",
   "execution_count": 84,
   "id": "83b49996-f1a7-405d-9b8c-7c3cde51286a",
   "metadata": {},
   "outputs": [],
   "source": [
    "input_dim = len(word_index) + 1"
   ]
  },
  {
   "cell_type": "code",
   "execution_count": 85,
   "id": "c517adcb-dbc3-4916-98aa-d874d3ed3b02",
   "metadata": {},
   "outputs": [
    {
     "data": {
      "text/plain": [
       "16709"
      ]
     },
     "execution_count": 85,
     "metadata": {},
     "output_type": "execute_result"
    }
   ],
   "source": [
    "input_dim"
   ]
  },
  {
   "cell_type": "code",
   "execution_count": 86,
   "id": "70ecea5f-e093-490d-8e5e-6f4d6682876d",
   "metadata": {},
   "outputs": [],
   "source": [
    "with open('Webapp/tokenizer.pickle', 'rb') as f:\n",
    "    tok = pickle.load(f)"
   ]
  },
  {
   "cell_type": "code",
   "execution_count": 87,
   "id": "3f028bfe-6456-4350-bb5e-055456805eea",
   "metadata": {},
   "outputs": [
    {
     "data": {
      "text/plain": [
       "<keras.src.preprocessing.text.Tokenizer at 0x1c30b7c5bd0>"
      ]
     },
     "execution_count": 87,
     "metadata": {},
     "output_type": "execute_result"
    }
   ],
   "source": [
    "tok"
   ]
  },
  {
   "cell_type": "code",
   "execution_count": 89,
   "id": "59daf74a-0c19-44aa-9a93-2d4b057a4928",
   "metadata": {},
   "outputs": [
    {
     "data": {
      "text/plain": [
       "16708"
      ]
     },
     "execution_count": 89,
     "metadata": {},
     "output_type": "execute_result"
    }
   ],
   "source": [
    "len(tok.word_index)"
   ]
  },
  {
   "cell_type": "code",
   "execution_count": null,
   "id": "51478402-a559-476a-ac27-7360116d12b2",
   "metadata": {},
   "outputs": [],
   "source": []
  }
 ],
 "metadata": {
  "kernelspec": {
   "display_name": "Python 3 (ipykernel)",
   "language": "python",
   "name": "python3"
  },
  "language_info": {
   "codemirror_mode": {
    "name": "ipython",
    "version": 3
   },
   "file_extension": ".py",
   "mimetype": "text/x-python",
   "name": "python",
   "nbconvert_exporter": "python",
   "pygments_lexer": "ipython3",
   "version": "3.11.5"
  }
 },
 "nbformat": 4,
 "nbformat_minor": 5
}
